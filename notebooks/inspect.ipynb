{
 "cells": [
  {
   "cell_type": "code",
   "execution_count": null,
   "id": "67099c78",
   "metadata": {},
   "outputs": [],
   "source": [
    "from pathlib import Path\n",
    "from itertools import cycle\n",
    "\n",
    "import geopandas as gpd\n",
    "from shapely.geometry import box\n",
    "from rasterio.plot import show\n",
    "import rasterio\n",
    "import matplotlib.pyplot as plt\n",
    "import matplotlib\n",
    "import numpy as np\n",
    "import pandas as pd\n",
    "from shapely.geometry import box\n",
    "import folium\n",
    "\n",
    "from src.notebook_helper import calculate_zoom_level, contrast_stretch\n",
    "from src.util import tif_paths, geojson_paths"
   ]
  },
  {
   "cell_type": "markdown",
   "id": "9494dfe0",
   "metadata": {},
   "source": [
    "# Inspect All Grids\n",
    "Plot all the grids on a world map"
   ]
  },
  {
   "cell_type": "code",
   "execution_count": null,
   "id": "5b15d1e3",
   "metadata": {},
   "outputs": [],
   "source": [
    "# Update the path to your folder of grid files\n",
    "GRIDS_DIR = Path(\"/Users/kyledorman/data/plant_download/wgs84_all_geojson\")\n",
    "GRID_PATHS = geojson_paths(GRIDS_DIR)"
   ]
  },
  {
   "cell_type": "code",
   "execution_count": null,
   "id": "9ee3bda2",
   "metadata": {},
   "outputs": [],
   "source": [
    "# Load grids\n",
    "grids = [gpd.read_file(p) for p in GRID_PATHS]\n",
    "\n",
    "# Combine into a single GeoDataFrame\n",
    "global_gdf = gpd.GeoDataFrame(pd.concat(grids, ignore_index=True))\n",
    "\n",
    "# Convert to local CRS for centroid calculations\n",
    "local_gdf = global_gdf.to_crs(global_gdf.estimate_utm_crs())"
   ]
  },
  {
   "cell_type": "code",
   "execution_count": null,
   "id": "0b7a3190",
   "metadata": {},
   "outputs": [],
   "source": [
    "# Step 1: Sort by centroid position\n",
    "global_gdf[\"centroid_x\"] = local_gdf.geometry.centroid.x\n",
    "global_gdf[\"centroid_y\"] = local_gdf.geometry.centroid.y\n",
    "global_gdf = global_gdf.sort_values(by=[\"centroid_y\", \"centroid_x\"], ascending=[True, True]).reset_index(drop=True)\n",
    "\n",
    "# Step 2: Assign colors cyclically\n",
    "# Generate a large color palette\n",
    "colors = plt.get_cmap(\"tab20\", 20)  # 20 distinct colors (use larger if needed)\n",
    "color_palette = [colors(i) for i in range(colors.N)]\n",
    "hex_colors = [matplotlib.colors.rgb2hex(c[:3]) for c in color_palette]  # Convert to HEX\n",
    "color_cycle = cycle(hex_colors)\n",
    "\n",
    "# Assign colors\n",
    "global_gdf[\"color\"] = [next(color_cycle) for _ in range(len(global_gdf))]"
   ]
  },
  {
   "cell_type": "code",
   "execution_count": null,
   "id": "cf51f30d",
   "metadata": {},
   "outputs": [],
   "source": [
    "# Compute the bounding box of all polygons\n",
    "minx, miny, maxx, maxy = global_gdf.total_bounds\n",
    "\n",
    "# Calculate the center of the bounding box\n",
    "center_lat = (miny + maxy) / 2\n",
    "center_lon = (minx + maxx) / 2\n",
    "\n",
    "# Calculate dynamic zoom level\n",
    "zoom_level = calculate_zoom_level(global_gdf.total_bounds)\n",
    "\n",
    "# Create the base map centered on the calculated location\n",
    "base_map = folium.Map(location=[center_lat, center_lon], zoom_start=zoom_level, width=800, height=600)\n",
    "\n",
    "# Add each GeoJSON file to the map\n",
    "# Add polygons to the map\n",
    "for _, row in global_gdf.iterrows():\n",
    "    folium.GeoJson(\n",
    "        row[\"geometry\"],\n",
    "        style_function=lambda x, color=row[\"color\"]: {\n",
    "            \"fillColor\": color,\n",
    "            \"color\": \"black\",\n",
    "            \"weight\": 1,\n",
    "            \"fillOpacity\": 0.5,\n",
    "        },\n",
    "    ).add_to(base_map)\n",
    "\n",
    "# Display the map\n",
    "base_map"
   ]
  },
  {
   "cell_type": "markdown",
   "id": "8e399526",
   "metadata": {},
   "source": [
    "# Inspect UDM extents compared to an AOI"
   ]
  },
  {
   "cell_type": "markdown",
   "id": "a782d12f-ffcc-460e-aba8-15c2b45b172b",
   "metadata": {},
   "source": [
    "Set the GRID_ID, YEAR, MONTH variables"
   ]
  },
  {
   "cell_type": "code",
   "execution_count": null,
   "id": "1aa6abda",
   "metadata": {},
   "outputs": [],
   "source": [
    "GRID_ID = \"25059125\"\n",
    "YEAR = \"2023\"\n",
    "MONTH = \"10\""
   ]
  },
  {
   "cell_type": "code",
   "execution_count": null,
   "id": "f3547ddc-7091-4123-a385-4b5e23071118",
   "metadata": {},
   "outputs": [],
   "source": [
    "# Update the path to the results directory (e.g. the `results_dir` in the config.yaml file)\n",
    "RESULTS_DIR = Path(\"/Users/kyledorman/data/plant_download/test4/results\")\n",
    "GRID_RESULTS_DIR = RESULTS_DIR / YEAR / MONTH / GRID_ID\n",
    "\n",
    "# Load the UDMS for this grid\n",
    "UDM_PATHS = geojson_paths(GRID_RESULTS_DIR)\n",
    "\n",
    "# Load the grid geometry\n",
    "GRID = gpd.read_file(GRIDS_DIR / f\"{GRID_ID}.geojson\")"
   ]
  },
  {
   "cell_type": "code",
   "execution_count": null,
   "id": "b5515355",
   "metadata": {},
   "outputs": [],
   "source": [
    "# Load the UDM GeoJSON file\n",
    "geojson_file = GRID_RESULTS_DIR / \"search_geometries.geojson\"\n",
    "gdf = gpd.read_file(geojson_file)\n",
    "\n",
    "zoom_level = calculate_zoom_level(GRID.total_bounds)\n",
    "m = folium.Map(location=(GRID.centroid.iloc[0].y, GRID.centroid.iloc[0].x), zoom_start=zoom_level - 2)\n",
    "\n",
    "# Add AOI to the map in blue\n",
    "folium.GeoJson(\n",
    "    GRID,\n",
    "    name=\"AOI\",\n",
    "    style_function=lambda x: {\n",
    "        \"fillColor\": \"blue\",\n",
    "        \"color\": \"blue\",\n",
    "        \"weight\": 2,\n",
    "        \"fillOpacity\": 0.9,\n",
    "    },\n",
    ").add_to(m)\n",
    "\n",
    "# Plot each polygon with a different color\n",
    "for _, row in gdf.iterrows():\n",
    "    folium.GeoJson(\n",
    "        row[\"geometry\"],\n",
    "        style_function=lambda feature, color=next(color_cycle): {\n",
    "            \"fillColor\": color,\n",
    "            \"color\": color,\n",
    "            \"weight\": 2,\n",
    "            \"fillOpacity\": 0.05,\n",
    "        },\n",
    "    ).add_to(m)\n",
    "\n",
    "\n",
    "# Add layer control\n",
    "folium.LayerControl().add_to(m)\n",
    "\n",
    "# Display the map\n",
    "m"
   ]
  },
  {
   "cell_type": "markdown",
   "id": "a0c5d536",
   "metadata": {},
   "source": [
    "# Inspect downloaded grid images"
   ]
  },
  {
   "cell_type": "markdown",
   "id": "a3ca218f-a797-4ffe-b05a-9cb3d2e3cca8",
   "metadata": {},
   "source": [
    "To inspect the downloaded imagery, first run\n",
    "```bash\n",
    "python src/inspect_grid_outputs.py --month MONTH --year YEAR --config-file CONFIG_FILE --grid-id GRID-ID\n",
    "```"
   ]
  },
  {
   "cell_type": "code",
   "execution_count": null,
   "id": "d69537fa",
   "metadata": {},
   "outputs": [],
   "source": [
    "asset_dir = GRID_RESULTS_DIR / \"files_asset_cropped\"\n",
    "udm_dir = GRID_RESULTS_DIR / \"files_udm_cropped\"\n",
    "image_paths = tif_paths(asset_dir)\n",
    "udm_paths = tif_paths(udm_dir)\n",
    "\n",
    "cols = min(2, len(image_paths))\n",
    "rows = len(image_paths) // cols + len(image_paths) % cols\n",
    "image_size = 5\n",
    "\n",
    "fig, axes = plt.subplots(rows, cols, figsize=(image_size * cols, image_size * rows))\n",
    "if cols == rows == 1:\n",
    "    axes.axis(\"off\")\n",
    "    axes = [axes]\n",
    "else:\n",
    "    axes = axes.flatten()\n",
    "\n",
    "for i, (img_pth, udm_path, ax) in enumerate(zip(image_paths, udm_paths, axes)):\n",
    "    with rasterio.open(img_pth) as src:\n",
    "        img = src.read((7, 5, 3), masked=True)\n",
    "\n",
    "    with rasterio.open(udm_path) as src:\n",
    "        udm = (src.read(1) == 1).astype(np.uint8)\n",
    "\n",
    "    img = contrast_stretch(img, p_high=97, p_low=2)\n",
    "    show(img, ax=ax)\n",
    "\n",
    "plt.tight_layout()"
   ]
  },
  {
   "cell_type": "code",
   "execution_count": null,
   "id": "291ff44f",
   "metadata": {},
   "outputs": [],
   "source": [
    "# Create counter\n",
    "with rasterio.open(udm_paths[0]) as src:\n",
    "    img = (src.read(1) == 1).astype(np.uint8)\n",
    "    counter = np.zeros_like(img)\n",
    "\n",
    "for file in udm_paths:\n",
    "    with rasterio.open(file) as src:\n",
    "        img = (src.read(1) == 1).astype(np.uint8)\n",
    "        counter += img\n",
    "\n",
    "show(counter, cmap=\"inferno\", title=\"Counts\")\n",
    "_ = show(counter.clip(0, 5), cmap=\"inferno\", title=\"Clipped Counts\")"
   ]
  },
  {
   "cell_type": "markdown",
   "id": "2949bcdb-b766-43fd-89e8-1bb0df501f0e",
   "metadata": {},
   "source": [
    "# Grid Intersection with regions"
   ]
  },
  {
   "cell_type": "code",
   "execution_count": null,
   "id": "896b9651-ea2c-42c1-aa97-977a2bd02019",
   "metadata": {},
   "outputs": [],
   "source": [
    "# Load your polygons in WGS84 (EPSG:4326)\n",
    "polygons_gdf = global_gdf\n",
    "\n",
    "# Ensure CRS is set to EPSG:4326\n",
    "polygons_gdf = polygons_gdf.set_crs(\"EPSG:4326\")\n",
    "\n",
    "# Define the approximate boundary between UTM Zone 10N and Zone 11N (longitude -123° to -117°)\n",
    "# UTM Zone 10N spans approx. -126° to -120°, and UTM Zone 11N spans approx. -120° to -114°\n",
    "zone_10_boundary = box(-126, -90, -120, 90)  # Covers all latitudes\n",
    "zone_11_boundary = box(-120, -90, -114, 90)\n",
    "\n",
    "# Convert these bounding boxes into GeoDataFrames\n",
    "zone_10_gdf = gpd.GeoDataFrame(geometry=[zone_10_boundary], crs=\"EPSG:4326\")\n",
    "zone_11_gdf = gpd.GeoDataFrame(geometry=[zone_11_boundary], crs=\"EPSG:4326\")\n",
    "\n",
    "# Check intersections\n",
    "intersect_zone_10 = polygons_gdf[polygons_gdf.intersects(zone_10_boundary)]\n",
    "intersect_zone_11 = polygons_gdf[polygons_gdf.intersects(zone_11_boundary)]\n",
    "\n",
    "# Find polygons that intersect BOTH zones\n",
    "intersect_both = intersect_zone_10[intersect_zone_10.index.isin(intersect_zone_11.index)]\n",
    "\n",
    "print(f\"Number of polygons intersecting both UTM Zone 10 and 11: {len(intersect_both)}\")\n",
    "\n",
    "intersect_both.GRID_ID"
   ]
  },
  {
   "cell_type": "code",
   "execution_count": null,
   "id": "cd36d013-65f4-43e9-8e24-aecafe23879b",
   "metadata": {},
   "outputs": [],
   "source": []
  }
 ],
 "metadata": {
  "kernelspec": {
   "display_name": "Python 3 (ipykernel)",
   "language": "python",
   "name": "python3"
  },
  "language_info": {
   "codemirror_mode": {
    "name": "ipython",
    "version": 3
   },
   "file_extension": ".py",
   "mimetype": "text/x-python",
   "name": "python",
   "nbconvert_exporter": "python",
   "pygments_lexer": "ipython3",
   "version": "3.11.9"
  }
 },
 "nbformat": 4,
 "nbformat_minor": 5
}
