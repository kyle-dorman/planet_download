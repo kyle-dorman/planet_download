{
 "cells": [
  {
   "cell_type": "code",
   "execution_count": null,
   "id": "67099c78",
   "metadata": {},
   "outputs": [],
   "source": [
    "from pathlib import Path\n",
    "from itertools import cycle\n",
    "from datetime import datetime\n",
    "\n",
    "import geopandas as gpd\n",
    "from rasterio.plot import show\n",
    "import rasterio\n",
    "import matplotlib.pyplot as plt\n",
    "import matplotlib\n",
    "import numpy as np\n",
    "import pandas as pd\n",
    "import folium\n",
    "from dateutil.relativedelta import relativedelta\n",
    "\n",
    "from src.notebook_helper import calculate_zoom_level, contrast_stretch\n",
    "from src.util import tif_paths, geojson_paths, create_config\n",
    "from src.scripts.extract_grid_intermediates import extract_grid_intermediates"
   ]
  },
  {
   "cell_type": "markdown",
   "id": "a6d8969f-6de6-42a7-86ce-ea4abdbcac9e",
   "metadata": {},
   "source": [
    "# Define Variables"
   ]
  },
  {
   "cell_type": "code",
   "execution_count": null,
   "id": "176fe9c1-e413-4096-8c98-1c911488213e",
   "metadata": {},
   "outputs": [],
   "source": [
    "CONFIG_FILE = Path(\"../run_config.yaml\")\n",
    "START_DATE = datetime(2024, 1, 1)\n",
    "END_DATE = START_DATE + relativedelta(year=1)\n",
    "\n",
    "# Create a config\n",
    "CONFIG, SAVE_PATH = create_config(CONFIG_FILE, start_date=START_DATE)"
   ]
  },
  {
   "cell_type": "markdown",
   "id": "9494dfe0",
   "metadata": {},
   "source": [
    "# Inspect All Grids\n",
    "Plot all the grids on a world map"
   ]
  },
  {
   "cell_type": "code",
   "execution_count": null,
   "id": "9ee3bda2",
   "metadata": {},
   "outputs": [],
   "source": [
    "# Get list of grid files\n",
    "grid_paths = geojson_paths(CONFIG.grid_dir)\n",
    "\n",
    "# Load grids\n",
    "grids = []\n",
    "for p in grid_paths:\n",
    "    gdf = gpd.read_file(p)\n",
    "    gdf[\"filename\"] = p.stem\n",
    "    grids.append(gdf)\n",
    "\n",
    "# Combine into a single GeoDataFrame\n",
    "global_gdf = gpd.GeoDataFrame(pd.concat(grids, ignore_index=True))\n",
    "\n",
    "# Convert to local CRS for centroid calculations\n",
    "local_gdf = global_gdf.to_crs(global_gdf.estimate_utm_crs())"
   ]
  },
  {
   "cell_type": "code",
   "execution_count": null,
   "id": "0b7a3190",
   "metadata": {},
   "outputs": [],
   "source": [
    "# Step 1: Sort by centroid position\n",
    "global_gdf[\"centroid_x\"] = local_gdf.geometry.centroid.x\n",
    "global_gdf[\"centroid_y\"] = local_gdf.geometry.centroid.y\n",
    "global_gdf = global_gdf.sort_values(by=[\"centroid_y\", \"centroid_x\"], ascending=[True, True]).reset_index(drop=True)\n",
    "\n",
    "# Step 2: Assign colors cyclically\n",
    "# Generate a large color palette\n",
    "colors = plt.get_cmap(\"tab20\", 20)  # 20 distinct colors (use larger if needed)\n",
    "color_palette = [colors(i) for i in range(colors.N)]\n",
    "hex_colors = [matplotlib.colors.rgb2hex(c[:3]) for c in color_palette]  # Convert to HEX\n",
    "color_cycle = cycle(hex_colors)\n",
    "\n",
    "# Assign colors\n",
    "global_gdf[\"color\"] = [next(color_cycle) for _ in range(len(global_gdf))]"
   ]
  },
  {
   "cell_type": "code",
   "execution_count": null,
   "id": "cf51f30d",
   "metadata": {},
   "outputs": [],
   "source": [
    "# Compute the bounding box of all polygons\n",
    "minx, miny, maxx, maxy = global_gdf.total_bounds\n",
    "\n",
    "# Calculate the center of the bounding box\n",
    "center_lat = (miny + maxy) / 2\n",
    "center_lon = (minx + maxx) / 2\n",
    "\n",
    "# Calculate dynamic zoom level\n",
    "zoom_level = calculate_zoom_level(global_gdf.total_bounds)\n",
    "\n",
    "# Create the base map centered on the calculated location\n",
    "base_map = folium.Map(location=[center_lat, center_lon], zoom_start=zoom_level, width=800, height=600)\n",
    "\n",
    "# Add each GeoJSON file to the map\n",
    "# Add polygons to the map\n",
    "for _, row in global_gdf.iterrows():\n",
    "    folium.GeoJson(\n",
    "        row[\"geometry\"],\n",
    "        name=row.filename,\n",
    "        # tooltip=folium.GeoJsonTooltip(fields=[\"name\"], aliases=[\"Region:\"]),\n",
    "        popup=folium.Popup(row.filename, parse_html=True),\n",
    "        style_function=lambda x, color=row[\"color\"]: {\n",
    "            \"fillColor\": color,\n",
    "            \"color\": \"black\",\n",
    "            \"weight\": 1,\n",
    "            \"fillOpacity\": 0.5,\n",
    "        },\n",
    "    ).add_to(base_map)\n",
    "\n",
    "# Display the map\n",
    "base_map"
   ]
  },
  {
   "cell_type": "markdown",
   "id": "8e399526",
   "metadata": {},
   "source": [
    "# Inspect UDM extents compared to an AOI"
   ]
  },
  {
   "cell_type": "markdown",
   "id": "a782d12f-ffcc-460e-aba8-15c2b45b172b",
   "metadata": {},
   "source": [
    "### !!! Set the GRID_ID !!!"
   ]
  },
  {
   "cell_type": "code",
   "execution_count": null,
   "id": "1aa6abda",
   "metadata": {},
   "outputs": [],
   "source": [
    "GRID_ID = \"25059125\""
   ]
  },
  {
   "cell_type": "code",
   "execution_count": null,
   "id": "f3547ddc-7091-4123-a385-4b5e23071118",
   "metadata": {},
   "outputs": [],
   "source": [
    "# The results folder for a single grid\n",
    "GRID_RESULTS_DIR = SAVE_PATH / GRID_ID\n",
    "\n",
    "# Get the UDM paths for this grid\n",
    "UDM_PATHS = geojson_paths(GRID_RESULTS_DIR)\n",
    "\n",
    "# Load the grid geometry\n",
    "GRID = gpd.read_file(CONFIG.grid_dir / f\"{GRID_ID}.geojson\")"
   ]
  },
  {
   "cell_type": "code",
   "execution_count": null,
   "id": "b5515355",
   "metadata": {},
   "outputs": [],
   "source": [
    "# Load the UDM GeoJSON file\n",
    "geojson_file = GRID_RESULTS_DIR / \"search_geometries.geojson\"\n",
    "gdf = gpd.read_file(geojson_file)\n",
    "\n",
    "zoom_level = calculate_zoom_level(GRID.total_bounds)\n",
    "m = folium.Map(location=(GRID.centroid.iloc[0].y, GRID.centroid.iloc[0].x), zoom_start=zoom_level - 2)\n",
    "\n",
    "# Add AOI to the map in blue\n",
    "folium.GeoJson(\n",
    "    GRID,\n",
    "    name=\"AOI\",\n",
    "    style_function=lambda x: {\n",
    "        \"fillColor\": \"blue\",\n",
    "        \"color\": \"blue\",\n",
    "        \"weight\": 2,\n",
    "        \"fillOpacity\": 0.9,\n",
    "    },\n",
    ").add_to(m)\n",
    "\n",
    "# Plot each polygon with a different color\n",
    "for _, row in gdf.iterrows():\n",
    "    folium.GeoJson(\n",
    "        row[\"geometry\"],\n",
    "        style_function=lambda feature, color=next(color_cycle): {\n",
    "            \"fillColor\": color,\n",
    "            \"color\": color,\n",
    "            \"weight\": 2,\n",
    "            \"fillOpacity\": 0.05,\n",
    "        },\n",
    "    ).add_to(m)\n",
    "\n",
    "\n",
    "# Add layer control\n",
    "folium.LayerControl().add_to(m)\n",
    "\n",
    "# Display the map\n",
    "m"
   ]
  },
  {
   "cell_type": "markdown",
   "id": "a0c5d536",
   "metadata": {},
   "source": [
    "# Inspect downloaded grid images"
   ]
  },
  {
   "cell_type": "markdown",
   "id": "4835c05e-10ef-4226-ad5a-8fe638ce1655",
   "metadata": {},
   "source": [
    "### Extract the intermediates for visualization"
   ]
  },
  {
   "cell_type": "code",
   "execution_count": null,
   "id": "e92750c8-8790-438f-a1be-2c39d2a01ece",
   "metadata": {},
   "outputs": [],
   "source": [
    "extract_grid_intermediates(config_file=CONFIG_FILE, start_date=START_DATE, grid_id=GRID_ID)"
   ]
  },
  {
   "cell_type": "markdown",
   "id": "ce69c764-6efc-473c-b073-b1a3d76855ff",
   "metadata": {},
   "source": [
    "## Visualize ALL Downloaded (and reprojected) UDMs\n",
    "This is the list of UDMs that were considered for Asset download."
   ]
  },
  {
   "cell_type": "code",
   "execution_count": null,
   "id": "6ce8eefc-b511-4b95-a5ab-6d29b62b530a",
   "metadata": {},
   "outputs": [],
   "source": [
    "udm_dir = GRID_RESULTS_DIR / \"udm_cropped\"\n",
    "udm_paths = tif_paths(udm_dir)\n",
    "num_images = len(udm_paths)\n",
    "\n",
    "cols = min(4, num_images)\n",
    "rows = num_images // cols + num_images % cols\n",
    "image_size = 5\n",
    "\n",
    "fig, axes = plt.subplots(rows, cols, figsize=(image_size * cols, image_size * rows))\n",
    "if cols == rows == 1:\n",
    "    axes = [axes]\n",
    "else:\n",
    "    axes = axes.flatten()\n",
    "for ax in axes:\n",
    "    ax.axis(\"off\")\n",
    "\n",
    "for i, (udm_path, ax) in enumerate(zip(udm_paths, axes)):\n",
    "    with rasterio.open(udm_path) as src:\n",
    "        udm = (src.read(1) == 1).astype(np.uint8)\n",
    "\n",
    "    show(~udm, ax=ax, cmap=\"binary\", title=udm_path.stem)\n",
    "\n",
    "plt.tight_layout()"
   ]
  },
  {
   "cell_type": "markdown",
   "id": "45acbdf4-398c-4fde-8bb7-19b3e8d0bfbf",
   "metadata": {},
   "source": [
    "## Visualize Downloaded Images (masked to AOI)"
   ]
  },
  {
   "cell_type": "code",
   "execution_count": null,
   "id": "d69537fa",
   "metadata": {},
   "outputs": [],
   "source": [
    "asset_dir = GRID_RESULTS_DIR / \"files_asset_cropped\"\n",
    "udm_dir = GRID_RESULTS_DIR / \"files_udm_cropped\"\n",
    "image_paths = tif_paths(asset_dir)\n",
    "udm_paths = tif_paths(udm_dir)\n",
    "\n",
    "cols = min(3, len(image_paths))\n",
    "rows = len(image_paths) // cols + len(image_paths) % cols\n",
    "image_size = 5\n",
    "\n",
    "fig, axes = plt.subplots(rows, cols, figsize=(image_size * cols, image_size * rows))\n",
    "if cols == rows == 1:\n",
    "    axes = [axes]\n",
    "else:\n",
    "    axes = axes.flatten()\n",
    "for ax in axes:\n",
    "    ax.axis(\"off\")\n",
    "\n",
    "for i, (img_pth, udm_path, ax) in enumerate(zip(image_paths, udm_paths, axes)):\n",
    "    with rasterio.open(img_pth) as src:\n",
    "        img = src.read((7, 5, 3), masked=True)\n",
    "\n",
    "    with rasterio.open(udm_path) as src:\n",
    "        udm = (src.read(1) == 1).astype(np.uint8)\n",
    "\n",
    "    img = contrast_stretch(img, p_high=97, p_low=2)\n",
    "    show(img, ax=ax, title=img_pth.stem)\n",
    "\n",
    "plt.tight_layout()"
   ]
  },
  {
   "cell_type": "markdown",
   "id": "15bf292b-700c-41dd-9443-28265b58de37",
   "metadata": {},
   "source": [
    "## Visualize coverage counts"
   ]
  },
  {
   "cell_type": "code",
   "execution_count": null,
   "id": "291ff44f",
   "metadata": {},
   "outputs": [],
   "source": [
    "cols = 2\n",
    "rows = 1\n",
    "image_size = 5\n",
    "\n",
    "fig, axes = plt.subplots(rows, cols, figsize=(image_size * cols, image_size * rows))\n",
    "if cols == rows == 1:\n",
    "    axes = [axes]\n",
    "else:\n",
    "    axes = axes.flatten()\n",
    "for ax in axes:\n",
    "    ax.axis(\"off\")\n",
    "\n",
    "# Create counter\n",
    "with rasterio.open(udm_paths[0]) as src:\n",
    "    img = (src.read(1) == 1).astype(np.uint8)\n",
    "    counter = np.zeros_like(img)\n",
    "\n",
    "for file in udm_paths:\n",
    "    with rasterio.open(file) as src:\n",
    "        img = (src.read(1) == 1).astype(np.uint8)\n",
    "        counter += img\n",
    "\n",
    "print(\"Counts min:\", np.unique(counter)[1], \"max:\", counter.max())\n",
    "\n",
    "show(counter, cmap=\"inferno\", title=\"Counts\", ax=axes[0])\n",
    "_ = show(counter.clip(0, 5), cmap=\"inferno\", title=\"Clipped Counts\", ax=axes[1])"
   ]
  }
 ],
 "metadata": {
  "kernelspec": {
   "display_name": "Python 3 (ipykernel)",
   "language": "python",
   "name": "python3"
  },
  "language_info": {
   "codemirror_mode": {
    "name": "ipython",
    "version": 3
   },
   "file_extension": ".py",
   "mimetype": "text/x-python",
   "name": "python",
   "nbconvert_exporter": "python",
   "pygments_lexer": "ipython3",
   "version": "3.11.9"
  }
 },
 "nbformat": 4,
 "nbformat_minor": 5
}
