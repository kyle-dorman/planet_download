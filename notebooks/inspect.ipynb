{
 "cells": [
  {
   "cell_type": "code",
   "execution_count": null,
   "id": "67099c78",
   "metadata": {},
   "outputs": [],
   "source": [
    "from dotenv import find_dotenv, load_dotenv\n",
    "from pathlib import Path\n",
    "import json\n",
    "from itertools import cycle\n",
    "\n",
    "from rasterio.crs import CRS\n",
    "from rasterio.plot import show\n",
    "from rasterio.warp import transform_geom\n",
    "from rasterio.features import shapes\n",
    "import rasterio\n",
    "from shapely import from_geojson\n",
    "from shapely.geometry import mapping, shape, MultiPolygon\n",
    "import matplotlib.pyplot as plt\n",
    "import matplotlib\n",
    "import numpy as np\n",
    "from geopandas import GeoDataFrame\n",
    "import geopandas as gpd\n",
    "import pandas as pd\n",
    "from shapely.geometry import box\n",
    "import folium\n",
    "\n",
    "from src.notebook_helper import *"
   ]
  },
  {
   "cell_type": "markdown",
   "id": "a72488fc-c06d-48aa-896f-1f14f0aacf5c",
   "metadata": {},
   "source": [
    "# Set dirctory paths"
   ]
  },
  {
   "cell_type": "code",
   "execution_count": null,
   "id": "527389d7",
   "metadata": {},
   "outputs": [],
   "source": [
    "BASE = Path(\"/Users/kyledorman/data/plant_download\")\n",
    "GRIDS_DIR = BASE / \"wgs84_all_geojson\"\n",
    "GRID_PATHS = [p for p in GRIDS_DIR.iterdir() if p.suffix == \".geojson\"]"
   ]
  },
  {
   "cell_type": "markdown",
   "id": "9494dfe0",
   "metadata": {},
   "source": [
    "# Inspect All Grids"
   ]
  },
  {
   "cell_type": "code",
   "execution_count": null,
   "id": "9ee3bda2",
   "metadata": {},
   "outputs": [],
   "source": [
    "# Load grids\n",
    "grids = [gpd.read_file(p) for p in GRID_PATHS]\n",
    "\n",
    "# Combine into a single GeoDataFrame\n",
    "global_gdf = gpd.GeoDataFrame(pd.concat(grids, ignore_index=True))\n",
    "\n",
    "# Convert to local CRS for centroid calculations\n",
    "local_gdf = global_gdf.to_crs(global_gdf.estimate_utm_crs())"
   ]
  },
  {
   "cell_type": "code",
   "execution_count": null,
   "id": "0b7a3190",
   "metadata": {},
   "outputs": [],
   "source": [
    "# Step 1: Sort by centroid position\n",
    "global_gdf['centroid_x'] = local_gdf.geometry.centroid.x\n",
    "global_gdf['centroid_y'] = local_gdf.geometry.centroid.y\n",
    "global_gdf = global_gdf.sort_values(\n",
    "    by=['centroid_y', 'centroid_x'], \n",
    "    ascending=[True, True]\n",
    ").reset_index(drop=True)\n",
    "\n",
    "# Step 2: Assign colors cyclically\n",
    "# Generate a large color palette\n",
    "colors = plt.get_cmap('tab20', 20)  # 20 distinct colors (use larger if needed)\n",
    "color_palette = [colors(i) for i in range(colors.N)]\n",
    "hex_colors = [matplotlib.colors.rgb2hex(c[:3]) for c in color_palette]  # Convert to HEX\n",
    "color_cycle = cycle(hex_colors)\n",
    "\n",
    "# Assign colors\n",
    "global_gdf['color'] = [next(color_cycle) for _ in range(len(global_gdf))]"
   ]
  },
  {
   "cell_type": "code",
   "execution_count": null,
   "id": "cf51f30d",
   "metadata": {},
   "outputs": [],
   "source": [
    "# Compute the bounding box of all polygons\n",
    "minx, miny, maxx, maxy = global_gdf.total_bounds\n",
    "\n",
    "# Calculate the center of the bounding box\n",
    "center_lat = (miny + maxy) / 2\n",
    "center_lon = (minx + maxx) / 2\n",
    "\n",
    "# Calculate dynamic zoom level\n",
    "zoom_level = calculate_zoom_level(global_gdf.total_bounds)\n",
    "\n",
    "# Create the base map centered on the calculated location\n",
    "base_map = folium.Map(location=[center_lat, center_lon], zoom_start=zoom_level, width=800, height=600)\n",
    "\n",
    "# Add each GeoJSON file to the map\n",
    "# Add polygons to the map\n",
    "for _, row in global_gdf.iterrows():\n",
    "    folium.GeoJson(\n",
    "        row['geometry'],\n",
    "        style_function=lambda x, color=row['color']: {\n",
    "            'fillColor': color,\n",
    "            'color': 'black',\n",
    "            'weight': 1,\n",
    "            'fillOpacity': 0.5,\n",
    "        },\n",
    "    ).add_to(base_map)\n",
    "    \n",
    "# Display the map\n",
    "base_map"
   ]
  },
  {
   "cell_type": "markdown",
   "id": "8e399526",
   "metadata": {},
   "source": [
    "# Inspect UDM extents compared to an AOI"
   ]
  },
  {
   "cell_type": "markdown",
   "id": "a782d12f-ffcc-460e-aba8-15c2b45b172b",
   "metadata": {},
   "source": [
    "Set the GRID_ID, YEAR, MONTH, and RESULTS_BASE variables"
   ]
  },
  {
   "cell_type": "code",
   "execution_count": null,
   "id": "1aa6abda",
   "metadata": {},
   "outputs": [],
   "source": [
    "GRID_ID = \"25058022\"\n",
    "YEAR = \"2022\"\n",
    "MONTH = \"09\"\n",
    "RESULTS_BASE = BASE / \"test3\" / \"results\" / YEAR / MONTH"
   ]
  },
  {
   "cell_type": "code",
   "execution_count": null,
   "id": "f3547ddc-7091-4123-a385-4b5e23071118",
   "metadata": {},
   "outputs": [],
   "source": [
    "GRID = gpd.read_file(GRIDS_DIR / f\"{GRID_ID}.geojson\")\n",
    "RESULTS_GRID_DIR = RESULTS_BASE / GRID_ID\n",
    "UDM_PATHS = list((RESULTS_GRID_DIR / \"udm\").iterdir())"
   ]
  },
  {
   "cell_type": "code",
   "execution_count": null,
   "id": "b5515355",
   "metadata": {},
   "outputs": [],
   "source": [
    "# Load the GeoJSON file\n",
    "geojson_file = RESULTS_GRID_DIR / \"search_geometries.json\"\n",
    "gdf = gpd.read_file(geojson_file)\n",
    "\n",
    "zoom_level = calculate_zoom_level(GRID.total_bounds)\n",
    "m = folium.Map(location=(GRID.centroid.iloc[0].y, GRID.centroid.iloc[0].x), zoom_start=zoom_level - 2)\n",
    "\n",
    "# Add AOI to the map in blue\n",
    "folium.GeoJson(\n",
    "    GRID,\n",
    "    name=\"AOI\",\n",
    "    style_function=lambda x: {\n",
    "        \"fillColor\": \"blue\",\n",
    "        \"color\": \"blue\",\n",
    "        \"weight\": 2,\n",
    "        \"fillOpacity\": 0.9,\n",
    "    },\n",
    ").add_to(m)\n",
    "\n",
    "# Plot each polygon with a different color\n",
    "for _, row in gdf.iterrows():\n",
    "    folium.GeoJson(\n",
    "        row[\"geometry\"],\n",
    "        style_function=lambda feature, color=next(color_cycle): {\n",
    "            'fillColor': color,\n",
    "            'color': color,\n",
    "            'weight': 2,\n",
    "            'fillOpacity': 0.05,\n",
    "        }\n",
    "    ).add_to(m)\n",
    "\n",
    "\n",
    "\n",
    "# Add layer control\n",
    "folium.LayerControl().add_to(m)\n",
    "\n",
    "# Display the map\n",
    "m"
   ]
  },
  {
   "cell_type": "markdown",
   "id": "a0c5d536",
   "metadata": {},
   "source": [
    "# Inspect downloaded grid images"
   ]
  },
  {
   "cell_type": "markdown",
   "id": "a3ca218f-a797-4ffe-b05a-9cb3d2e3cca8",
   "metadata": {},
   "source": [
    "To inspect the downloaded imagery, first run\n",
    "```bash\n",
    "python src/inspect_grid_outputs.py --month MONTH --year YEAR --config-file CONFIG_FILE --grid-id GRID-ID\n",
    "```"
   ]
  },
  {
   "cell_type": "code",
   "execution_count": null,
   "id": "d69537fa",
   "metadata": {},
   "outputs": [],
   "source": [
    "asset_dir = RESULTS_BASE / GRID_ID / 'files_asset_cropped'\n",
    "udm_dir = RESULTS_BASE / GRID_ID / 'files_udm_cropped'\n",
    "image_paths = sorted(list(asset_dir.iterdir()))\n",
    "udm_paths = sorted(list(udm_dir.iterdir()))\n",
    "\n",
    "cols = 2\n",
    "rows = len(image_paths) // cols + len(image_paths) % cols\n",
    "image_size = 5\n",
    "\n",
    "fig, axes = plt.subplots(rows, cols, figsize=(image_size * cols, image_size * rows))\n",
    "for ax in axes.flatten():\n",
    "    ax.axis('off')\n",
    "\n",
    "for i, (img_pth, udm_path) in enumerate(zip(image_paths, udm_paths)):\n",
    "    row = i // cols\n",
    "    col = i % cols\n",
    "    with rasterio.open(img_pth) as src:\n",
    "        img = src.read((7, 5, 3), masked=True)\n",
    "        \n",
    "    with rasterio.open(udm_path) as src:\n",
    "        udm = (src.read(1) == 1).astype(np.uint8)\n",
    "        \n",
    "    # img = np.where(udm != 1, 0, img)\n",
    "    v_min, v_max = np.percentile(img.compressed(), (2, 98))\n",
    "    img = np.clip((img - v_min) / (v_max - v_min), 0, 1)\n",
    "    show(img, ax=axes[row, col])\n",
    "\n",
    "plt.tight_layout()"
   ]
  },
  {
   "cell_type": "code",
   "execution_count": null,
   "id": "291ff44f",
   "metadata": {},
   "outputs": [],
   "source": [
    "# Create counter\n",
    "with rasterio.open(udm_paths[0]) as src:\n",
    "    img = (src.read(1) == 1).astype(np.uint8)\n",
    "    counter = np.zeros_like(img)\n",
    "\n",
    "for file in udm_paths:\n",
    "    with rasterio.open(file) as src:\n",
    "        img = (src.read(1) == 1).astype(np.uint8)\n",
    "        counter += img\n",
    "\n",
    "show(counter, cmap='inferno',  title=\"Counts\")\n",
    "_ = show(counter.clip(0, 5), cmap='inferno', title=\"Clipped Counts\")"
   ]
  },
  {
   "cell_type": "code",
   "execution_count": null,
   "id": "afd5108e-0b5e-46a2-aa99-dcfa47d72daf",
   "metadata": {},
   "outputs": [],
   "source": []
  }
 ],
 "metadata": {
  "kernelspec": {
   "display_name": "Python 3 (ipykernel)",
   "language": "python",
   "name": "python3"
  },
  "language_info": {
   "codemirror_mode": {
    "name": "ipython",
    "version": 3
   },
   "file_extension": ".py",
   "mimetype": "text/x-python",
   "name": "python",
   "nbconvert_exporter": "python",
   "pygments_lexer": "ipython3",
   "version": "3.11.9"
  }
 },
 "nbformat": 4,
 "nbformat_minor": 5
}
