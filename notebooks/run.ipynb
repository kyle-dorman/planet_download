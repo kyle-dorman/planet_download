{
 "cells": [
  {
   "cell_type": "code",
   "execution_count": null,
   "id": "888d54c1-246a-4ef8-b677-e00383138585",
   "metadata": {},
   "outputs": [],
   "source": [
    "import os\n",
    "from pathlib import Path\n",
    "\n",
    "from src.util import create_config\n",
    "from src.scripts.download_udms import download_udms\n",
    "from src.scripts.select_udms import select_udms\n",
    "from src.scripts.order_images import order_images"
   ]
  },
  {
   "cell_type": "markdown",
   "id": "83210559-f2de-4abd-a58f-b2b4be88cb12",
   "metadata": {},
   "source": [
    "# Define Variables"
   ]
  },
  {
   "cell_type": "code",
   "execution_count": null,
   "id": "2c1594d9-c470-4d1c-af5e-14c1c41e4048",
   "metadata": {},
   "outputs": [],
   "source": [
    "MONTH = 10\n",
    "YEAR = 2023\n",
    "CONFIG_FILE = Path(\"../config.yaml\")\n",
    "PL_API_KEY=\"UPDATE_ME\"\n",
    "\n",
    "# Set Planet API Key for all scripts\n",
    "os.environ[\"PL_API_KEY\"] = PL_API_KEY\n",
    "\n",
    "# Create a config\n",
    "CONFIG, SAVE_PATH = create_config(CONFIG_FILE, year=YEAR, month=MONTH)"
   ]
  },
  {
   "cell_type": "markdown",
   "id": "f6b631ec-058a-476c-ab2a-4f79d712b499",
   "metadata": {},
   "source": [
    "# Download UDMs for all grids"
   ]
  },
  {
   "cell_type": "code",
   "execution_count": null,
   "id": "cdcda593-cb96-4d7b-8ee8-07215e57b83e",
   "metadata": {},
   "outputs": [],
   "source": [
    "download_udms(config_file=CONFIG_FILE, month=MONTH, year=YEAR)"
   ]
  },
  {
   "cell_type": "markdown",
   "id": "7bedc543-58ee-43d9-925c-9630d081479e",
   "metadata": {},
   "source": [
    "# Select the best UDMs for each grid"
   ]
  },
  {
   "cell_type": "code",
   "execution_count": null,
   "id": "fb294929-6447-48a2-b542-9f43ac8ceb25",
   "metadata": {},
   "outputs": [],
   "source": [
    "select_udms(config_file=CONFIG_FILE, month=MONTH, year=YEAR)"
   ]
  },
  {
   "cell_type": "markdown",
   "id": "4981a5c9-8a43-4c71-8f44-b32529468312",
   "metadata": {},
   "source": [
    "# Order Images"
   ]
  },
  {
   "cell_type": "code",
   "execution_count": null,
   "id": "78421fee-19a8-400a-bb84-02b55aef061d",
   "metadata": {},
   "outputs": [],
   "source": [
    "order_images(config_file=CONFIG_FILE, month=MONTH, year=YEAR)"
   ]
  },
  {
   "cell_type": "code",
   "execution_count": null,
   "id": "f6731b0e-e6f0-43d6-8a67-2afbc40f0353",
   "metadata": {},
   "outputs": [],
   "source": []
  }
 ],
 "metadata": {
  "kernelspec": {
   "display_name": "Python 3 (ipykernel)",
   "language": "python",
   "name": "python3"
  },
  "language_info": {
   "codemirror_mode": {
    "name": "ipython",
    "version": 3
   },
   "file_extension": ".py",
   "mimetype": "text/x-python",
   "name": "python",
   "nbconvert_exporter": "python",
   "pygments_lexer": "ipython3",
   "version": "3.11.9"
  }
 },
 "nbformat": 4,
 "nbformat_minor": 5
}
